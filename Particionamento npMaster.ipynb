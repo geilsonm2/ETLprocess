{
 "cells": [
  {
   "cell_type": "code",
   "execution_count": null,
   "id": "258e9aa4",
   "metadata": {},
   "outputs": [],
   "source": [
    "import pandas as pd\n",
    "import numpy as np\n",
    "import mysql.connector\n",
    "import glob\n",
    "\n",
    "#Lendo o arquivo .csv\n",
    "df = pd.read_csv(\"./bloqueio_bancomaster_06072023.txt\", sep = ';')\n",
    "\n",
    "#Dividindo o conteúdo das colunas abaixo, particionando em duas partes\n",
    "#mantendo somente o que está antes do ' ' #exemplo: 2023-07-06 00:00:00 para 2023-07-06\n",
    "df['data_bloqueio'] = df['data_bloqueio'].str.split(' ', expand=True)[0]\n",
    "df['data_arquivo'] = df['data_arquivo'].str.split(' ', expand=True)[0]\n",
    "df['data_inicio_bloqueio'] = df['data_inicio_bloqueio'].str.split(' ', expand=True)[0]\n",
    "\n",
    "#Criando duas colunas e copiando informações de uma para outra\n",
    "df['apagar'] = df['data_inicio_bloqueio']\n",
    "df['data_inicio_bloqueio'] = df['empresa']\n",
    "\n",
    "#Renomeando as colunas criadas e copiadas\n",
    "df.rename(columns={'data_inicio_bloqueio':'origempedido'},inplace=True)\n",
    "df.rename(columns={'apagar':'data_inicio_bloqueio'},inplace=True)\n",
    "\n",
    "#Deixando as colunas do df em maiusculo\n",
    "df.columns = df.columns.str.upper()\n",
    "\n",
    "#Convertendo a coluna Telefone para String\n",
    "df['TELEFONE'] = df['TELEFONE'].astype(str)\n",
    "\n",
    "#Salvando o DataFrame tratado\n",
    "df.to_csv('bloqueio_bancomaster_06072023_ok.csv', sep=';', index=False)\n",
    "\n",
    "#Iniciando processo de particionamento\n",
    "\n",
    "# Especifica o número máximo de linhas por arquivo CSV\n",
    "chunksize = 300000\n",
    "\n",
    "# Especifica o caminho do arquivo TXT e o separador utilizado\n",
    "filepath = 'C:/Users/geilson.maciel/Desktop/npMaster/bloqueio_bancomaster_06072023_ok.csv'\n",
    "separator = ','\n",
    "\n",
    "# Define o nome do arquivo de saída e o número inicial para os índices\n",
    "output_name = 'part -'\n",
    "index = 1\n",
    "\n",
    "# Lê o arquivo TXT em partes (chunks) e salva cada parte como um arquivo CSV\n",
    "for chunk in pd.read_csv(filepath, sep=separator, chunksize=chunksize):\n",
    "    # Define o caminho e o nome do arquivo CSV de saída\n",
    "    output_path = f'C:/Users/geilson.maciel/Desktop/npMaster/Particionamentos/{output_name}{index}.csv'\n",
    "    \n",
    "    # Salva o chunk atual como um arquivo CSV\n",
    "    chunk.to_csv(output_path, index=False)\n",
    "    \n",
    "    # Incrementa o número do índice\n",
    "    index += 1\n"
   ]
  }
 ],
 "metadata": {
  "kernelspec": {
   "display_name": "Python 3 (ipykernel)",
   "language": "python",
   "name": "python3"
  },
  "language_info": {
   "codemirror_mode": {
    "name": "ipython",
    "version": 3
   },
   "file_extension": ".py",
   "mimetype": "text/x-python",
   "name": "python",
   "nbconvert_exporter": "python",
   "pygments_lexer": "ipython3",
   "version": "3.9.13"
  }
 },
 "nbformat": 4,
 "nbformat_minor": 5
}
