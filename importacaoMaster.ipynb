{
 "cells": [
  {
   "cell_type": "code",
   "execution_count": null,
   "id": "a84c31f0",
   "metadata": {},
   "outputs": [
    {
     "name": "stdout",
     "output_type": "stream",
     "text": [
      "Lendo arquivo: C:/Users/geilson.maciel/Desktop/npMaster/Particionamentos/part -15.csv\n",
      "Dados no caminho C:/Users/geilson.maciel/Desktop/npMaster/Particionamentos/part -15.csv foram carregados com sucesso!\n",
      "\n",
      "Lendo arquivo: C:/Users/geilson.maciel/Desktop/npMaster/Particionamentos/part -16.csv\n",
      "Dados no caminho C:/Users/geilson.maciel/Desktop/npMaster/Particionamentos/part -16.csv foram carregados com sucesso!\n",
      "\n",
      "Lendo arquivo: C:/Users/geilson.maciel/Desktop/npMaster/Particionamentos/part -17.csv\n",
      "Dados no caminho C:/Users/geilson.maciel/Desktop/npMaster/Particionamentos/part -17.csv foram carregados com sucesso!\n",
      "\n",
      "Lendo arquivo: C:/Users/geilson.maciel/Desktop/npMaster/Particionamentos/part -18.csv\n"
     ]
    }
   ],
   "source": [
    "import pandas as pd\n",
    "import numpy as np\n",
    "import mysql.connector\n",
    "import os\n",
    "from dotenv import load_dotenv\n",
    "\n",
    "load_dotenv()\n",
    "\n",
    "connection = mysql.connector.connect(\n",
    "    host='54.207.19.250',\n",
    "    user='gmvb_geilson',\n",
    "    password='kK+(kB!Uh~$U',\n",
    "    database='gmvb_crm'\n",
    ")\n",
    "cursor = connection.cursor()\n",
    "caminho = 'C:/Users/geilson.maciel/Desktop/npMaster/Particionamentos/'\n",
    "part_files = [caminho + \"part -{}.csv\".format(i) for i in range(15, 31)]\n",
    "\n",
    "for part_file in part_files:\n",
    "    file_path = os.path.join(\".\", part_file)  # Altere o diretório se necessário\n",
    "    print(\"Lendo arquivo:\", part_file)\n",
    "    df_part = pd.read_csv(file_path, sep=';')\n",
    "    \n",
    "    df_part['TELEFONE'] = df_part['TELEFONE'].astype(object)\n",
    "\n",
    "    df = pd.DataFrame(df_part)\n",
    "\n",
    "    for indice in range(len(df)):\n",
    "        origem = df['ORIGEM'][indice]\n",
    "        telefone = df['TELEFONE'][indice]\n",
    "        data_bloqueio = df['DATA_BLOQUEIO'][indice]\n",
    "        data_arquivo = df['DATA_ARQUIVO'][indice]\n",
    "        empresa = df['EMPRESA'][indice]\n",
    "        origem_pedido = df['ORIGEMPEDIDO'][indice]\n",
    "        data_inicio_bloqueio = df['DATA_INICIO_BLOQUEIO'][indice]\n",
    "\n",
    "        consulta = \"INSERT IGNORE INTO crm_nao_perturbe (origem, telefone, data_bloqueio, data_arquivo, empresa, OrigemPedido, data_inicio_bloqueio) VALUES (%s, %s, %s, %s, %s, %s, %s)\"\n",
    "        valores = (origem, telefone, data_bloqueio, data_arquivo, empresa, origem_pedido, data_inicio_bloqueio)\n",
    "        cursor.execute(consulta, valores)\n",
    "\n",
    "    connection.commit()\n",
    "    print(f\"Dados no caminho {part_file} foram carregados com sucesso!\\n\")\n",
    "\n",
    "connection.close()\n",
    "print(\"Conexão Finalizada!\")\n"
   ]
  }
 ],
 "metadata": {
  "kernelspec": {
   "display_name": "Python 3 (ipykernel)",
   "language": "python",
   "name": "python3"
  },
  "language_info": {
   "codemirror_mode": {
    "name": "ipython",
    "version": 3
   },
   "file_extension": ".py",
   "mimetype": "text/x-python",
   "name": "python",
   "nbconvert_exporter": "python",
   "pygments_lexer": "ipython3",
   "version": "3.9.13"
  }
 },
 "nbformat": 4,
 "nbformat_minor": 5
}
