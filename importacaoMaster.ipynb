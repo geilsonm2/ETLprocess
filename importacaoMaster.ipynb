{
 "cells": [
  {
   "cell_type": "code",
<<<<<<< HEAD
   "execution_count": 11,
   "id": "a84c31f0",
   "metadata": {},
   "outputs": [],
=======
   "execution_count": 8,
   "id": "a84c31f0",
   "metadata": {},
   "outputs": [
    {
     "name": "stdout",
     "output_type": "stream",
     "text": [
      "Lendo arquivo: C:/Users/geilson.maciel/Desktop/npMaster/Particionamentos/part -25.csv\n"
     ]
    },
    {
     "ename": "KeyboardInterrupt",
     "evalue": "",
     "output_type": "error",
     "traceback": [
      "\u001b[1;31m---------------------------------------------------------------------------\u001b[0m",
      "\u001b[1;31mKeyboardInterrupt\u001b[0m                         Traceback (most recent call last)",
      "\u001b[1;32m~\\AppData\\Local\\Temp\\ipykernel_780\\2600578009.py\u001b[0m in \u001b[0;36m<module>\u001b[1;34m\u001b[0m\n\u001b[0;32m     49\u001b[0m         \u001b[0mconsulta\u001b[0m \u001b[1;33m=\u001b[0m \u001b[1;34m\"INSERT IGNORE INTO crm_nao_perturbe (origem, telefone, data_bloqueio, data_arquivo, empresa, OrigemPedido, data_inicio_bloqueio) VALUES (%s, %s, %s, %s, %s, %s, %s)\"\u001b[0m\u001b[1;33m\u001b[0m\u001b[1;33m\u001b[0m\u001b[0m\n\u001b[0;32m     50\u001b[0m         \u001b[0mvalores\u001b[0m \u001b[1;33m=\u001b[0m \u001b[1;33m(\u001b[0m\u001b[0morigem\u001b[0m\u001b[1;33m,\u001b[0m \u001b[0mtelefone\u001b[0m\u001b[1;33m,\u001b[0m \u001b[0mdata_bloqueio\u001b[0m\u001b[1;33m,\u001b[0m \u001b[0mdata_arquivo\u001b[0m\u001b[1;33m,\u001b[0m \u001b[0mempresa\u001b[0m\u001b[1;33m,\u001b[0m \u001b[0morigem_pedido\u001b[0m\u001b[1;33m,\u001b[0m \u001b[0mdata_inicio_bloqueio\u001b[0m\u001b[1;33m)\u001b[0m\u001b[1;33m\u001b[0m\u001b[1;33m\u001b[0m\u001b[0m\n\u001b[1;32m---> 51\u001b[1;33m         \u001b[0mcursor\u001b[0m\u001b[1;33m.\u001b[0m\u001b[0mexecute\u001b[0m\u001b[1;33m(\u001b[0m\u001b[0mconsulta\u001b[0m\u001b[1;33m,\u001b[0m \u001b[0mvalores\u001b[0m\u001b[1;33m)\u001b[0m\u001b[1;33m\u001b[0m\u001b[1;33m\u001b[0m\u001b[0m\n\u001b[0m\u001b[0;32m     52\u001b[0m \u001b[1;33m\u001b[0m\u001b[0m\n\u001b[0;32m     53\u001b[0m     \u001b[0mconnection\u001b[0m\u001b[1;33m.\u001b[0m\u001b[0mcommit\u001b[0m\u001b[1;33m(\u001b[0m\u001b[1;33m)\u001b[0m\u001b[1;33m\u001b[0m\u001b[1;33m\u001b[0m\u001b[0m\n",
      "\u001b[1;32m~\\Anaconda3\\lib\\site-packages\\mysql\\connector\\cursor_cext.py\u001b[0m in \u001b[0;36mexecute\u001b[1;34m(self, operation, params, multi)\u001b[0m\n\u001b[0;32m    328\u001b[0m \u001b[1;33m\u001b[0m\u001b[0m\n\u001b[0;32m    329\u001b[0m         \u001b[1;32mtry\u001b[0m\u001b[1;33m:\u001b[0m\u001b[1;33m\u001b[0m\u001b[1;33m\u001b[0m\u001b[0m\n\u001b[1;32m--> 330\u001b[1;33m             result = self._cnx.cmd_query(\n\u001b[0m\u001b[0;32m    331\u001b[0m                 \u001b[0mstmt\u001b[0m\u001b[1;33m,\u001b[0m\u001b[1;33m\u001b[0m\u001b[1;33m\u001b[0m\u001b[0m\n\u001b[0;32m    332\u001b[0m                 \u001b[0mraw\u001b[0m\u001b[1;33m=\u001b[0m\u001b[0mself\u001b[0m\u001b[1;33m.\u001b[0m\u001b[0m_raw\u001b[0m\u001b[1;33m,\u001b[0m\u001b[1;33m\u001b[0m\u001b[1;33m\u001b[0m\u001b[0m\n",
      "\u001b[1;32m~\\Anaconda3\\lib\\site-packages\\mysql\\connector\\connection_cext.py\u001b[0m in \u001b[0;36mcmd_query\u001b[1;34m(self, query, raw, buffered, raw_as_string)\u001b[0m\n\u001b[0;32m    609\u001b[0m             \u001b[1;32mif\u001b[0m \u001b[1;32mnot\u001b[0m \u001b[0misinstance\u001b[0m\u001b[1;33m(\u001b[0m\u001b[0mquery\u001b[0m\u001b[1;33m,\u001b[0m \u001b[0mbytes\u001b[0m\u001b[1;33m)\u001b[0m\u001b[1;33m:\u001b[0m\u001b[1;33m\u001b[0m\u001b[1;33m\u001b[0m\u001b[0m\n\u001b[0;32m    610\u001b[0m                 \u001b[0mquery\u001b[0m \u001b[1;33m=\u001b[0m \u001b[0mquery\u001b[0m\u001b[1;33m.\u001b[0m\u001b[0mencode\u001b[0m\u001b[1;33m(\u001b[0m\u001b[1;34m\"utf-8\"\u001b[0m\u001b[1;33m)\u001b[0m\u001b[1;33m\u001b[0m\u001b[1;33m\u001b[0m\u001b[0m\n\u001b[1;32m--> 611\u001b[1;33m             self._cmysql.query(\n\u001b[0m\u001b[0;32m    612\u001b[0m                 \u001b[0mquery\u001b[0m\u001b[1;33m,\u001b[0m\u001b[1;33m\u001b[0m\u001b[1;33m\u001b[0m\u001b[0m\n\u001b[0;32m    613\u001b[0m                 \u001b[0mraw\u001b[0m\u001b[1;33m=\u001b[0m\u001b[0mraw\u001b[0m\u001b[1;33m,\u001b[0m\u001b[1;33m\u001b[0m\u001b[1;33m\u001b[0m\u001b[0m\n",
      "\u001b[1;31mKeyboardInterrupt\u001b[0m: "
     ]
    }
   ],
>>>>>>> 53562020f708227405b9b1b666303d49d0f48e0c
   "source": [
    "#Importando bibliotecas \n",
    "import pandas as pd\n",
    "import numpy as np\n",
    "import mysql.connector\n",
    "import os\n",
    "from dotenv import load_dotenv\n",
    "\n",
    "#Carreagndo váriaveis do arquivo .env\n",
    "load_dotenv()\n",
    "\n",
    "#Obtendo váriaveis com informações de conexão do BD\n",
    "db_host = os.getenv('DB_HOST')\n",
    "db_user = os.getenv('DB_USER')\n",
    "db_password = os.getenv('DB_PASSWORD')\n",
    "db_name = os.getenv('DB_NAME')\n",
    "\n",
    "#Criando conexão com Banco de Dados\n",
    "connection = mysql.connector.connect(\n",
    "    host=db_host,\n",
    "    user=db_user,\n",
    "    password=db_password,\n",
    "    database=db_name\n",
    ")\n",
    "\n",
    "#Iniciando o cursor para realizar consultas SQL\n",
    "cursor = connection.cursor()\n",
    "\n",
    "#Definindo o caminho, onde está o arquivo .csv\n",
    "caminho = os.getenv('caminho_importacao')\n",
    "\n",
    "#Iterando entre os arquivos.csv que contém no caminho citado acima\n",
    "part_files = [caminho + \"part -{}.csv\".format(i) for i in range(25, 31)]\n",
    "\n",
    "#Iniciando a iteração em cada arquivo contido no caminho citado anteriormente, reiniciando até o ultimo arquivo\n",
    "for part_file in part_files:\n",
    "    file_path = os.path.join(\".\", part_file) #Combinando caminho do arquivo com o diretório atual.\n",
    "    print(\"Lendo arquivo:\", part_file) #Exibindo mensagem de Leitura\n",
    "    df_part = pd.read_csv(file_path, sep=';') #Realizando a leitura do DF\n",
    "    \n",
    "    #Convertendo coluna para String\n",
    "    df_part['TELEFONE'] = df_part['TELEFONE'].astype(object)\n",
    "    \n",
    "    #Criando novo DF chamado df\n",
    "    df = pd.DataFrame(df_part)\n",
    "\n",
    "    #Iterando sobre os indices contidos dentro do DataFrame, atribuindo os valores de cada indica a uma variável individual linha a linha\n",
    "    for indice in range(len(df)):\n",
    "        origem = df['ORIGEM'][indice]\n",
    "        telefone = df['TELEFONE'][indice]\n",
    "        data_bloqueio = df['DATA_BLOQUEIO'][indice]\n",
    "        data_arquivo = df['DATA_ARQUIVO'][indice]\n",
    "        empresa = df['EMPRESA'][indice]\n",
    "        origem_pedido = df['ORIGEMPEDIDO'][indice]\n",
    "        data_inicio_bloqueio = df['DATA_INICIO_BLOQUEIO'][indice]\n",
    "    #Realizando inserção de dados na tabela cliente_nao_perturbe\n",
    "        consulta = \"INSERT IGNORE INTO cliente_nao_perturbe (origem, telefone, data_bloqueio, data_arquivo, empresa, OrigemPedido, data_inicio_bloqueio) VALUES (%s, %s, %s, %s, %s, %s, %s)\"\n",
    "        #Definindo valores que serão inseridos, de acordo com a posição marcada na consulta SQL\n",
    "        valores = (origem, telefone, data_bloqueio, data_arquivo, empresa, origem_pedido, data_inicio_bloqueio)\n",
    "        #Executando a função SQL, tendo como parametro a variável 'valores'\n",
    "        cursor.execute(consulta, valores)\n",
    "    \n",
    "    #Realizando o commit, e confirmando as inserções realizadas no banco\n",
    "    connection.commit()\n",
    "    print(f\"Dados no caminho {part_file} foram carregados com sucesso!\\n\")\n",
    "#Fechando a conexão com o banco de dados.\n",
    "connection.close()\n",
    "print(\"Conexão Finalizada!\")\n"
   ]
  }
 ],
 "metadata": {
  "kernelspec": {
   "display_name": "Python 3 (ipykernel)",
   "language": "python",
   "name": "python3"
  },
  "language_info": {
   "codemirror_mode": {
    "name": "ipython",
    "version": 3
   },
   "file_extension": ".py",
   "mimetype": "text/x-python",
   "name": "python",
   "nbconvert_exporter": "python",
   "pygments_lexer": "ipython3",
   "version": "3.9.13"
  }
 },
 "nbformat": 4,
 "nbformat_minor": 5
}
